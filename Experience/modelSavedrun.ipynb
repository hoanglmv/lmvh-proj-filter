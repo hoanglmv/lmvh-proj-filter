{
 "cells": [
  {
   "cell_type": "markdown",
   "metadata": {},
   "source": [
    "1. Lưu mô hình sau khi train\n",
    "Bạn có thể lưu lại toàn bộ trạng thái của mô hình bằng cách sử dụng torch.save() để lưu các trọng số của mô hình vào một file .pth."
   ]
  },
  {
   "cell_type": "code",
   "execution_count": null,
   "metadata": {},
   "outputs": [],
   "source": [
    "# Lưu lại mô hình sau khi đã train xong\n",
    "torch.save(model.state_dict(), 'face_landmark_model.pth')\n"
   ]
  },
  {
   "cell_type": "markdown",
   "metadata": {},
   "source": [
    "2. Tải mô hình đã lưu để dự đoán\n",
    "Khi cần dự đoán trên một ảnh mới mà không muốn train lại, bạn chỉ cần tạo lại kiến trúc mô hình và nạp trọng số từ file .pth đã lưu trước đó."
   ]
  },
  {
   "cell_type": "code",
   "execution_count": null,
   "metadata": {},
   "outputs": [],
   "source": [
    "# Khởi tạo lại mô hình (phải giống kiến trúc với mô hình đã train trước đó)\n",
    "model = ResNet50Landmark()\n",
    "\n",
    "# Load trọng số đã lưu vào mô hình\n",
    "model.load_state_dict(torch.load('face_landmark_model.pth'))\n",
    "\n",
    "# Đưa mô hình về chế độ dự đoán (evaluation mode)\n",
    "model.eval()\n"
   ]
  },
  {
   "cell_type": "markdown",
   "metadata": {},
   "source": [
    "3. Dự đoán với mô hình đã lưu\n",
    "Bây giờ bạn có thể dùng mô hình đã được tải trọng số để dự đoán các điểm trên khuôn mặt của một bức ảnh."
   ]
  },
  {
   "cell_type": "code",
   "execution_count": null,
   "metadata": {},
   "outputs": [],
   "source": [
    "# Giả sử 'image_tensor' là hình ảnh đã được xử lý (chuẩn hóa, resize) để dự đoán\n",
    "with torch.no_grad():  # Không tính gradient trong quá trình dự đoán\n",
    "    outputs = model(image_tensor.unsqueeze(0))  # unsqueeze để thêm batch dimension\n",
    "    predicted_landmarks = outputs.view(-1, 2).numpy()  # Chuyển kết quả thành (68, 2)\n",
    "    \n",
    "# 'predicted_landmarks' sẽ chứa các tọa độ (x, y) của 68 điểm trên khuôn mặt\n"
   ]
  },
  {
   "cell_type": "markdown",
   "metadata": {},
   "source": [
    "4. Lưu checkpoint của quá trình huấn luyện (Tùy chọn)\n",
    "Nếu bạn muốn lưu không chỉ mô hình mà còn lưu optimizer, số epoch, và các thông tin khác để tiếp tục quá trình huấn luyện từ nơi đã dừng lại, bạn có thể lưu toàn bộ checkpoint như sau:"
   ]
  },
  {
   "cell_type": "code",
   "execution_count": null,
   "metadata": {},
   "outputs": [],
   "source": [
    "checkpoint = {\n",
    "    'epoch': epoch,\n",
    "    'model_state_dict': model.state_dict(),\n",
    "    'optimizer_state_dict': optimizer.state_dict(),\n",
    "    'loss': loss,\n",
    "}\n",
    "torch.save(checkpoint, 'checkpoint.pth')\n"
   ]
  },
  {
   "cell_type": "code",
   "execution_count": null,
   "metadata": {},
   "outputs": [],
   "source": [
    "checkpoint = torch.load('checkpoint.pth')\n",
    "model.load_state_dict(checkpoint['model_state_dict'])\n",
    "optimizer.load_state_dict(checkpoint['optimizer_state_dict'])\n",
    "epoch = checkpoint['epoch']\n",
    "loss = checkpoint['loss']\n",
    "\n",
    "# Tiếp tục huấn luyện hoặc dự đoán\n",
    "model.train()  # hoặc model.eval() nếu dự đoán\n"
   ]
  }
 ],
 "metadata": {
  "kernelspec": {
   "display_name": "Python 3",
   "language": "python",
   "name": "python3"
  },
  "language_info": {
   "name": "python",
   "version": "3.9.13"
  }
 },
 "nbformat": 4,
 "nbformat_minor": 2
}
